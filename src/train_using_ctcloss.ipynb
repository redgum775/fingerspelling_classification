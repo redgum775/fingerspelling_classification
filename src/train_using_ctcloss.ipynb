{
 "cells": [
  {
   "cell_type": "code",
   "execution_count": 34,
   "metadata": {},
   "outputs": [],
   "source": [
    "import tensorflow as tf\n",
    "from tensorflow import keras\n",
    "from tensorflow.keras.layers import StringLookup\n",
    "from sklearn.preprocessing import StandardScaler\n",
    "import numpy as np\n",
    "import pandas as pd\n",
    "\n",
    "np.random.seed(42)\n",
    "tf.random.set_seed(42)"
   ]
  },
  {
   "cell_type": "code",
   "execution_count": 35,
   "metadata": {},
   "outputs": [],
   "source": [
    "DIMENSION = 20 # 特徴量の数\n",
    "sc = StandardScaler()"
   ]
  },
  {
   "cell_type": "code",
   "execution_count": 36,
   "metadata": {},
   "outputs": [
    {
     "name": "stdout",
     "output_type": "stream",
     "text": [
      "Total training samples: 9\n",
      "Total validation samples: 4\n",
      "Total test samples: 5\n"
     ]
    }
   ],
   "source": [
    "# データセット分割\n",
    "data_table = pd.read_csv(f'../datasets/end-to-end/data_list.csv')\n",
    "split_idx = int(0.5 * len(data_table))\n",
    "train_samples = data_table[:split_idx]\n",
    "test_samples = data_table[split_idx:]\n",
    "val_split_idx  = int(0.5 * len(test_samples))\n",
    "val_samples = test_samples[:val_split_idx]\n",
    "test_samples = test_samples[val_split_idx:]\n",
    "\n",
    "print(f'Total training samples: {len(train_samples)}')\n",
    "print(f'Total validation samples: {len(val_samples)}')\n",
    "print(f'Total test samples: {len(test_samples)}')"
   ]
  },
  {
   "cell_type": "code",
   "execution_count": 37,
   "metadata": {},
   "outputs": [],
   "source": [
    "# データセットに含まれる文字列の最大長、フレーム数の最大長\n",
    "max_label_len = 0\n",
    "max_frame_len = 0\n",
    "total_character = 0\n",
    "total_frame = 0\n",
    "\n",
    "train_labels = []\n",
    "train_data_paths = []\n",
    "characters = set()\n",
    "\n",
    "for _, data in train_samples.iterrows():\n",
    "  # print(data)\n",
    "  train_labels.append(data['label'])\n",
    "  for c in data['label']:\n",
    "    characters.add(c)\n",
    "  max_label_len = max(max_label_len, len(data['label']))\n",
    "  file_path = data['feature_file_ptah']\n",
    "  train_data_paths.append(f'.{file_path}')\n",
    "  val = pd.read_csv(f'.{file_path}')\n",
    "  max_frame_len = max(max_frame_len, len(val.index))\n",
    "  total_frame += len(val.index)\n"
   ]
  },
  {
   "cell_type": "code",
   "execution_count": 38,
   "metadata": {},
   "outputs": [],
   "source": [
    "val_labels = []\n",
    "val_data_paths = []\n",
    "for _, data in val_samples.iterrows():\n",
    "  val_labels.append(data['label'])\n",
    "  for c in data['label']:\n",
    "    characters.add(c)\n",
    "  max_label_len = max(max_label_len, len(data['label']))\n",
    "  file_path = data['feature_file_ptah']\n",
    "  val_data_paths.append(f'.{file_path}')\n",
    "  val = pd.read_csv(f'.{file_path}')\n",
    "  max_frame_len = max(max_frame_len, len(val.index))\n",
    "  total_frame += len(val.index)\n",
    "\n",
    "\n",
    "test_labels = []\n",
    "test_data_paths = []\n",
    "for _, data in test_samples.iterrows():\n",
    "  test_labels.append(data['label'])\n",
    "  for c in data['label']:\n",
    "    characters.add(c)\n",
    "  max_label_len = max(max_label_len, len(data['label']))\n",
    "  file_path = data['feature_file_ptah']\n",
    "  test_data_paths.append(f'.{file_path}')\n",
    "  val = pd.read_csv(f'.{file_path}')\n",
    "  max_frame_len = max(max_frame_len, len(val.index))\n",
    "  total_frame += len(val.index)"
   ]
  },
  {
   "cell_type": "code",
   "execution_count": 39,
   "metadata": {},
   "outputs": [],
   "source": [
    "# 特徴量の長さをmax_frame_lenで揃える\n",
    "def build_dataset(paths, max_frame_len):\n",
    "  padding_data = np.empty((0, max_frame_len, DIMENSION))\n",
    "  for path in paths:\n",
    "    val = pd.read_csv(path)\n",
    "    padding_length = max_frame_len - len(val.index)\n",
    "    tmp = pd.DataFrame(index=range(padding_length), columns=val.columns)\n",
    "    tmp.fillna(0, inplace=True)\n",
    "    val = val.append(tmp, ignore_index=True)\n",
    "    \n",
    "    padding_data = np.vstack((padding_data , [val.values]))\n",
    "  return padding_data.astype(np.float32)"
   ]
  },
  {
   "cell_type": "code",
   "execution_count": 40,
   "metadata": {},
   "outputs": [
    {
     "name": "stderr",
     "output_type": "stream",
     "text": [
      "C:\\Users\\myasu\\AppData\\Local\\Temp\\ipykernel_38052\\3203409968.py:9: FutureWarning: The frame.append method is deprecated and will be removed from pandas in a future version. Use pandas.concat instead.\n",
      "  val = val.append(tmp, ignore_index=True)\n",
      "C:\\Users\\myasu\\AppData\\Local\\Temp\\ipykernel_38052\\3203409968.py:9: FutureWarning: The frame.append method is deprecated and will be removed from pandas in a future version. Use pandas.concat instead.\n",
      "  val = val.append(tmp, ignore_index=True)\n",
      "C:\\Users\\myasu\\AppData\\Local\\Temp\\ipykernel_38052\\3203409968.py:9: FutureWarning: The frame.append method is deprecated and will be removed from pandas in a future version. Use pandas.concat instead.\n",
      "  val = val.append(tmp, ignore_index=True)\n",
      "C:\\Users\\myasu\\AppData\\Local\\Temp\\ipykernel_38052\\3203409968.py:9: FutureWarning: The frame.append method is deprecated and will be removed from pandas in a future version. Use pandas.concat instead.\n",
      "  val = val.append(tmp, ignore_index=True)\n",
      "C:\\Users\\myasu\\AppData\\Local\\Temp\\ipykernel_38052\\3203409968.py:9: FutureWarning: The frame.append method is deprecated and will be removed from pandas in a future version. Use pandas.concat instead.\n",
      "  val = val.append(tmp, ignore_index=True)\n",
      "C:\\Users\\myasu\\AppData\\Local\\Temp\\ipykernel_38052\\3203409968.py:9: FutureWarning: The frame.append method is deprecated and will be removed from pandas in a future version. Use pandas.concat instead.\n",
      "  val = val.append(tmp, ignore_index=True)\n",
      "C:\\Users\\myasu\\AppData\\Local\\Temp\\ipykernel_38052\\3203409968.py:9: FutureWarning: The frame.append method is deprecated and will be removed from pandas in a future version. Use pandas.concat instead.\n",
      "  val = val.append(tmp, ignore_index=True)\n",
      "C:\\Users\\myasu\\AppData\\Local\\Temp\\ipykernel_38052\\3203409968.py:9: FutureWarning: The frame.append method is deprecated and will be removed from pandas in a future version. Use pandas.concat instead.\n",
      "  val = val.append(tmp, ignore_index=True)\n",
      "C:\\Users\\myasu\\AppData\\Local\\Temp\\ipykernel_38052\\3203409968.py:9: FutureWarning: The frame.append method is deprecated and will be removed from pandas in a future version. Use pandas.concat instead.\n",
      "  val = val.append(tmp, ignore_index=True)\n",
      "C:\\Users\\myasu\\AppData\\Local\\Temp\\ipykernel_38052\\3203409968.py:9: FutureWarning: The frame.append method is deprecated and will be removed from pandas in a future version. Use pandas.concat instead.\n",
      "  val = val.append(tmp, ignore_index=True)\n",
      "C:\\Users\\myasu\\AppData\\Local\\Temp\\ipykernel_38052\\3203409968.py:9: FutureWarning: The frame.append method is deprecated and will be removed from pandas in a future version. Use pandas.concat instead.\n",
      "  val = val.append(tmp, ignore_index=True)\n",
      "C:\\Users\\myasu\\AppData\\Local\\Temp\\ipykernel_38052\\3203409968.py:9: FutureWarning: The frame.append method is deprecated and will be removed from pandas in a future version. Use pandas.concat instead.\n",
      "  val = val.append(tmp, ignore_index=True)\n",
      "C:\\Users\\myasu\\AppData\\Local\\Temp\\ipykernel_38052\\3203409968.py:9: FutureWarning: The frame.append method is deprecated and will be removed from pandas in a future version. Use pandas.concat instead.\n",
      "  val = val.append(tmp, ignore_index=True)\n",
      "C:\\Users\\myasu\\AppData\\Local\\Temp\\ipykernel_38052\\3203409968.py:9: FutureWarning: The frame.append method is deprecated and will be removed from pandas in a future version. Use pandas.concat instead.\n",
      "  val = val.append(tmp, ignore_index=True)\n",
      "C:\\Users\\myasu\\AppData\\Local\\Temp\\ipykernel_38052\\3203409968.py:9: FutureWarning: The frame.append method is deprecated and will be removed from pandas in a future version. Use pandas.concat instead.\n",
      "  val = val.append(tmp, ignore_index=True)\n",
      "C:\\Users\\myasu\\AppData\\Local\\Temp\\ipykernel_38052\\3203409968.py:9: FutureWarning: The frame.append method is deprecated and will be removed from pandas in a future version. Use pandas.concat instead.\n",
      "  val = val.append(tmp, ignore_index=True)\n",
      "C:\\Users\\myasu\\AppData\\Local\\Temp\\ipykernel_38052\\3203409968.py:9: FutureWarning: The frame.append method is deprecated and will be removed from pandas in a future version. Use pandas.concat instead.\n",
      "  val = val.append(tmp, ignore_index=True)\n",
      "C:\\Users\\myasu\\AppData\\Local\\Temp\\ipykernel_38052\\3203409968.py:9: FutureWarning: The frame.append method is deprecated and will be removed from pandas in a future version. Use pandas.concat instead.\n",
      "  val = val.append(tmp, ignore_index=True)\n"
     ]
    }
   ],
   "source": [
    "train_data = build_dataset(train_data_paths, max_frame_len)\n",
    "val_data = build_dataset(val_data_paths, max_frame_len)\n",
    "test_data = build_dataset(test_data_paths, max_frame_len)"
   ]
  },
  {
   "cell_type": "code",
   "execution_count": 41,
   "metadata": {},
   "outputs": [],
   "source": [
    "# 文字と数字のマッピング\n",
    "AUTOTUNE = tf.data.AUTOTUNE\n",
    "characters = sorted(characters) # 降順にソート\n",
    "char_to_num = StringLookup(vocabulary=list(characters), mask_token=None)\n",
    "num_to_char = StringLookup(vocabulary=char_to_num.get_vocabulary(), mask_token=None, invert=True)"
   ]
  },
  {
   "cell_type": "code",
   "execution_count": 42,
   "metadata": {},
   "outputs": [
    {
     "name": "stdout",
     "output_type": "stream",
     "text": [
      "--情報--\n",
      "一つの動画によるフレームの最大長: 498\n",
      "合計のフレーム数: 3766\n",
      "ラベルの最大長15\n",
      "文字の種類数: 45\n",
      "出現文字: ['あ', 'い', 'う', 'え', 'ぉ', 'か', 'が', 'き', 'く', 'ぐ', 'け', 'げ', 'こ', 'ご', 'し', 'じ', 'す', 'せ', 'そ', 'だ', 'ち', 'っ', 'つ', 'て', 'で', 'と', 'ど', 'ね', 'の', 'は', 'ひ', 'ふ', 'ぶ', 'ま', 'み', 'め', 'も', 'ょ', 'り', 'る', 'れ', 'ろ', 'わ', 'ん', 'ー']\n"
     ]
    }
   ],
   "source": [
    "# データセットの情報を確認\n",
    "print(f'--情報--')\n",
    "# データセットの量を確認\n",
    "print(f'一つの動画によるフレームの最大長: {max_frame_len}\\n合計のフレーム数: {total_frame}')\n",
    "# データセットに含まれるラベル文字を確認\n",
    "print(f'ラベルの最大長{max_label_len}\\n文字の種類数: {len(characters)}\\n出現文字: {characters}')"
   ]
  },
  {
   "cell_type": "code",
   "execution_count": 43,
   "metadata": {},
   "outputs": [],
   "source": [
    "batch_size = 32\n",
    "padding_token = 99\n",
    "\n",
    "def preprocess_data(data):\n",
    "\treturn data\n",
    "\n",
    "def vectorize_label(label):\n",
    "\tlabel = char_to_num(tf.strings.unicode_split(label, input_encoding=\"UTF-8\"))\n",
    "\tlength = tf.shape(label)[0]\n",
    "\tpad_amount = max_label_len - length\n",
    "\tlabel = tf.pad(label, paddings=[[0, pad_amount]], constant_values=padding_token)\n",
    "\treturn label\n",
    "\n",
    "def process_datas_labels(data, label):\n",
    "\tdata = preprocess_data(data)\n",
    "\tlabel = vectorize_label(label)\n",
    "\treturn {\"input\": data, \"label\": label}\n",
    "\n",
    "\n",
    "def prepare_dataset(data, labels):\n",
    "\tdataset = tf.data.Dataset.from_tensor_slices((data, labels)).map(\n",
    "\t\tprocess_datas_labels, num_parallel_calls=AUTOTUNE\n",
    "\t).shuffle(20)\n",
    "\treturn dataset.batch(batch_size).cache().prefetch(AUTOTUNE)"
   ]
  },
  {
   "cell_type": "code",
   "execution_count": 45,
   "metadata": {},
   "outputs": [],
   "source": [
    "train_ds = prepare_dataset(train_data, train_labels)\n",
    "val_ds = prepare_dataset(val_data, val_labels)\n",
    "test_ds = prepare_dataset(test_data, test_labels)"
   ]
  },
  {
   "cell_type": "code",
   "execution_count": 46,
   "metadata": {},
   "outputs": [],
   "source": [
    "class CTCLayer(keras.layers.Layer):\n",
    "  def __init__(self, name=None):\n",
    "    super().__init__(name=name)\n",
    "    self.loss_fn = keras.backend.ctc_batch_cost\n",
    "\n",
    "  def call(self, y_true, y_pred):\n",
    "    batch_len = tf.cast(tf.shape(y_true)[0], dtype=\"int64\")\n",
    "    input_length = tf.cast(tf.shape(y_pred)[1], dtype=\"int64\")\n",
    "    label_length = tf.cast(tf.shape(y_true)[1], dtype=\"int64\")\n",
    "\n",
    "    input_length = input_length * tf.ones(shape=(batch_len, 1), dtype=\"int64\")\n",
    "    label_length = label_length * tf.ones(shape=(batch_len, 1), dtype=\"int64\")\n",
    "    loss = self.loss_fn(y_true, y_pred, input_length, label_length)\n",
    "    self.add_loss(loss)\n",
    "\n",
    "    return y_pred"
   ]
  },
  {
   "cell_type": "code",
   "execution_count": 47,
   "metadata": {},
   "outputs": [
    {
     "name": "stdout",
     "output_type": "stream",
     "text": [
      "Model: \"fingerspelling_recognizer\"\n",
      "__________________________________________________________________________________________________\n",
      " Layer (type)                   Output Shape         Param #     Connected to                     \n",
      "==================================================================================================\n",
      " input (InputLayer)             [(None, 498, 20)]    0           []                               \n",
      "                                                                                                  \n",
      " bidirectional_2 (Bidirectional  (None, 498, 256)    152576      ['input[0][0]']                  \n",
      " )                                                                                                \n",
      "                                                                                                  \n",
      " bidirectional_3 (Bidirectional  (None, 498, 128)    164352      ['bidirectional_2[0][0]']        \n",
      " )                                                                                                \n",
      "                                                                                                  \n",
      " dense1 (Dense)                 (None, 498, 256)     33024       ['bidirectional_3[0][0]']        \n",
      "                                                                                                  \n",
      " dense2 (Dense)                 (None, 498, 128)     32896       ['dense1[0][0]']                 \n",
      "                                                                                                  \n",
      " label (InputLayer)             [(None, None)]       0           []                               \n",
      "                                                                                                  \n",
      " output (Dense)                 (None, 498, 48)      6192        ['dense2[0][0]']                 \n",
      "                                                                                                  \n",
      " ctc_loss (CTCLayer)            (None, 498, 48)      0           ['label[0][0]',                  \n",
      "                                                                  'output[0][0]']                 \n",
      "                                                                                                  \n",
      "==================================================================================================\n",
      "Total params: 389,040\n",
      "Trainable params: 389,040\n",
      "Non-trainable params: 0\n",
      "__________________________________________________________________________________________________\n"
     ]
    }
   ],
   "source": [
    "# モデルの構築\n",
    "def build_model():\n",
    "  input_data = keras.Input(shape=(max_frame_len, DIMENSION), name=\"input\")\n",
    "  labels = keras.layers.Input(name=\"label\", shape=(None,))\n",
    "\n",
    "  x = keras.layers.Bidirectional(keras.layers.LSTM(128, return_sequences=True, dropout=0.2))(input_data)\n",
    "  x = keras.layers.Bidirectional(keras.layers.LSTM(64, return_sequences=True, dropout=0.2))(x)\n",
    "  x = keras.layers.Dense(256, activation=\"relu\", name=\"dense1\")(x)\n",
    "  x = keras.layers.Dense(128, activation=\"relu\", name=\"dense2\")(x)\n",
    "  x = keras.layers.Dense(len(char_to_num.get_vocabulary()) + 2, activation=\"softmax\", name=\"output\")(x)\n",
    "\n",
    "  output = CTCLayer(name=\"ctc_loss\")(labels, x)\n",
    "\n",
    "  model = keras.models.Model(inputs=[input_data, labels], outputs=output, name=\"fingerspelling_recognizer\")\n",
    "  opt = keras.optimizers.Adam()\n",
    "  model.compile(optimizer=opt)\n",
    "  return model\n",
    "\n",
    "model = build_model()\n",
    "model.summary()"
   ]
  },
  {
   "cell_type": "code",
   "execution_count": 48,
   "metadata": {},
   "outputs": [
    {
     "name": "stdout",
     "output_type": "stream",
     "text": [
      "Epoch 1/50\n",
      "1/1 [==============================] - 9s 9s/step - loss: 1879.0413 - val_loss: 1758.5881\n",
      "Epoch 2/50\n",
      "1/1 [==============================] - 1s 501ms/step - loss: 1803.0038 - val_loss: 1643.1167\n",
      "Epoch 3/50\n",
      "1/1 [==============================] - 0s 274ms/step - loss: 1712.6493 - val_loss: 1505.8181\n",
      "Epoch 4/50\n",
      "1/1 [==============================] - 0s 233ms/step - loss: 1606.0365 - val_loss: 1354.6315\n",
      "Epoch 5/50\n",
      "1/1 [==============================] - 0s 227ms/step - loss: 1482.9966 - val_loss: 1198.7533\n",
      "Epoch 6/50\n",
      "1/1 [==============================] - 0s 185ms/step - loss: 1344.0789 - val_loss: 1035.7837\n",
      "Epoch 7/50\n",
      "1/1 [==============================] - 0s 184ms/step - loss: 1179.5216 - val_loss: 816.6752\n",
      "Epoch 8/50\n",
      "1/1 [==============================] - 0s 181ms/step - loss: 941.9684 - val_loss: 417.5336\n",
      "Epoch 9/50\n",
      "1/1 [==============================] - 0s 164ms/step - loss: 487.3574 - val_loss: 25.6686\n",
      "Epoch 10/50\n",
      "1/1 [==============================] - 0s 168ms/step - loss: 24.9804 - val_loss: 26.9322\n",
      "Epoch 11/50\n",
      "1/1 [==============================] - 0s 158ms/step - loss: 21.3128 - val_loss: 36.8341\n",
      "Epoch 12/50\n",
      "1/1 [==============================] - 0s 168ms/step - loss: 28.5634 - val_loss: 44.3242\n",
      "Epoch 13/50\n",
      "1/1 [==============================] - 0s 177ms/step - loss: 33.8736 - val_loss: 48.4340\n",
      "Epoch 14/50\n",
      "1/1 [==============================] - 0s 182ms/step - loss: 36.9313 - val_loss: 50.1955\n",
      "Epoch 15/50\n",
      "1/1 [==============================] - 0s 195ms/step - loss: 38.3379 - val_loss: 50.9292\n",
      "Epoch 16/50\n",
      "1/1 [==============================] - 0s 150ms/step - loss: 38.8799 - val_loss: 51.2415\n",
      "Epoch 17/50\n",
      "1/1 [==============================] - 0s 146ms/step - loss: 39.0855 - val_loss: 51.3716\n",
      "Epoch 18/50\n",
      "1/1 [==============================] - 0s 192ms/step - loss: 39.1664 - val_loss: 51.4251\n",
      "Epoch 19/50\n",
      "1/1 [==============================] - 0s 188ms/step - loss: 39.1992 - val_loss: 51.4474\n",
      "Epoch 20/50\n",
      "1/1 [==============================] - 0s 180ms/step - loss: 39.2090 - val_loss: 51.4571\n",
      "Epoch 21/50\n",
      "1/1 [==============================] - 0s 173ms/step - loss: 39.2160 - val_loss: 51.4615\n",
      "Epoch 22/50\n",
      "1/1 [==============================] - 0s 176ms/step - loss: 39.2184 - val_loss: 51.4636\n",
      "Epoch 23/50\n",
      "1/1 [==============================] - 0s 169ms/step - loss: 39.2200 - val_loss: 51.4646\n",
      "Epoch 24/50\n",
      "1/1 [==============================] - 0s 163ms/step - loss: 39.2206 - val_loss: 51.4652\n",
      "Epoch 25/50\n",
      "1/1 [==============================] - 0s 171ms/step - loss: 39.2208 - val_loss: 51.4655\n",
      "Epoch 26/50\n",
      "1/1 [==============================] - 0s 196ms/step - loss: 39.2210 - val_loss: 51.4657\n",
      "Epoch 27/50\n",
      "1/1 [==============================] - 0s 177ms/step - loss: 39.2211 - val_loss: 51.4658\n",
      "Epoch 28/50\n",
      "1/1 [==============================] - 0s 138ms/step - loss: 39.2211 - val_loss: 51.4658\n",
      "Epoch 29/50\n",
      "1/1 [==============================] - 0s 146ms/step - loss: 39.2212 - val_loss: 51.4658\n",
      "Epoch 30/50\n",
      "1/1 [==============================] - 0s 157ms/step - loss: 39.2212 - val_loss: 51.4659\n",
      "Epoch 31/50\n",
      "1/1 [==============================] - 0s 151ms/step - loss: 39.2212 - val_loss: 51.4659\n",
      "Epoch 32/50\n",
      "1/1 [==============================] - 0s 195ms/step - loss: 39.2212 - val_loss: 51.4659\n",
      "Epoch 33/50\n",
      "1/1 [==============================] - 0s 185ms/step - loss: 39.2212 - val_loss: 51.4659\n",
      "Epoch 34/50\n",
      "1/1 [==============================] - 0s 178ms/step - loss: 39.2212 - val_loss: 51.4659\n",
      "Epoch 35/50\n",
      "1/1 [==============================] - 0s 173ms/step - loss: 39.2212 - val_loss: 51.4659\n",
      "Epoch 36/50\n",
      "1/1 [==============================] - 0s 165ms/step - loss: 39.2212 - val_loss: 51.4659\n",
      "Epoch 37/50\n",
      "1/1 [==============================] - 0s 179ms/step - loss: 39.2212 - val_loss: 51.4659\n",
      "Epoch 38/50\n",
      "1/1 [==============================] - 0s 182ms/step - loss: 39.2212 - val_loss: 51.4659\n",
      "Epoch 39/50\n",
      "1/1 [==============================] - 0s 179ms/step - loss: 39.2212 - val_loss: 51.4659\n",
      "Epoch 40/50\n",
      "1/1 [==============================] - 0s 180ms/step - loss: 39.2212 - val_loss: 51.4659\n",
      "Epoch 41/50\n",
      "1/1 [==============================] - 0s 184ms/step - loss: 39.2212 - val_loss: 51.4659\n",
      "Epoch 42/50\n",
      "1/1 [==============================] - 0s 170ms/step - loss: 39.2212 - val_loss: 51.4659\n",
      "Epoch 43/50\n",
      "1/1 [==============================] - 0s 177ms/step - loss: 39.2212 - val_loss: 51.4659\n",
      "Epoch 44/50\n",
      "1/1 [==============================] - 0s 182ms/step - loss: 39.2212 - val_loss: 51.4659\n",
      "Epoch 45/50\n",
      "1/1 [==============================] - 0s 189ms/step - loss: 39.2212 - val_loss: 51.4659\n",
      "Epoch 46/50\n",
      "1/1 [==============================] - 0s 184ms/step - loss: 39.2212 - val_loss: 51.4659\n",
      "Epoch 47/50\n",
      "1/1 [==============================] - 0s 180ms/step - loss: 39.2212 - val_loss: 51.4659\n",
      "Epoch 48/50\n",
      "1/1 [==============================] - 0s 184ms/step - loss: 39.2212 - val_loss: 51.4659\n",
      "Epoch 49/50\n",
      "1/1 [==============================] - 0s 184ms/step - loss: 39.2212 - val_loss: 51.4659\n",
      "Epoch 50/50\n",
      "1/1 [==============================] - 0s 200ms/step - loss: 39.2212 - val_loss: 51.4659\n"
     ]
    }
   ],
   "source": [
    "prediction_model = keras.models.Model(\n",
    "  model.get_layer(name=\"input\").input, model.get_layer(name=\"output\").output\n",
    ")\n",
    "\n",
    "epochs = 50  # To get good results this should be at least 50.\n",
    "es_callback = tf.keras.callbacks.EarlyStopping(patience=10, verbose=1)\n",
    "\n",
    "# Train the model.\n",
    "history = model.fit(\n",
    "  train_ds,\n",
    "  validation_data=val_ds,\n",
    "  epochs=epochs,\n",
    ")"
   ]
  },
  {
   "cell_type": "code",
   "execution_count": 49,
   "metadata": {},
   "outputs": [],
   "source": [
    "import os\n",
    "import datetime\n",
    "\n",
    "# 現在時刻(yyyymmdd_hhmmss形式)のフォルダを作る\n",
    "now = datetime.datetime.now().strftime('%Y%m%d_%H%M%S')\n",
    "os.mkdir(f'models/{now}')"
   ]
  },
  {
   "cell_type": "code",
   "execution_count": 50,
   "metadata": {},
   "outputs": [
    {
     "data": {
      "text/plain": [
       "<Figure size 640x480 with 0 Axes>"
      ]
     },
     "metadata": {},
     "output_type": "display_data"
    },
    {
     "data": {
      "image/png": "[encoded data removed]",
      "text/plain": [
       "<Figure size 640x480 with 1 Axes>"
      ]
     },
     "metadata": {},
     "output_type": "display_data"
    }
   ],
   "source": [
    "import matplotlib.pyplot as plt\n",
    "hist_df = pd.DataFrame(history.history)\n",
    "# 可視化\n",
    "fig = plt.figure()\n",
    "hist_df[['loss', 'val_loss']].plot()\n",
    "plt.title('model loss')\n",
    "plt.ylabel('loss')\n",
    "plt.xlabel('epoch')\n",
    "model_loss_fig_path = f'models/{now}/model_loss.png'\n",
    "plt.savefig(model_loss_fig_path, dpi=300)\n",
    "plt.show()"
   ]
  },
  {
   "cell_type": "code",
   "execution_count": 51,
   "metadata": {},
   "outputs": [
    {
     "name": "stdout",
     "output_type": "stream",
     "text": [
      "WARNING:tensorflow:Compiled the loaded model, but the compiled metrics have yet to be built. `model.compile_metrics` will be empty until you train or evaluate the model.\n"
     ]
    },
    {
     "name": "stderr",
     "output_type": "stream",
     "text": [
      "WARNING:tensorflow:Compiled the loaded model, but the compiled metrics have yet to be built. `model.compile_metrics` will be empty until you train or evaluate the model.\n",
      "WARNING:absl:Found untraced functions such as lstm_cell_7_layer_call_fn, lstm_cell_7_layer_call_and_return_conditional_losses, lstm_cell_8_layer_call_fn, lstm_cell_8_layer_call_and_return_conditional_losses, lstm_cell_10_layer_call_fn while saving (showing 5 of 8). These functions will not be directly callable after loading.\n"
     ]
    },
    {
     "name": "stdout",
     "output_type": "stream",
     "text": [
      "INFO:tensorflow:Assets written to: C:\\Users\\myasu\\AppData\\Local\\Temp\\tmpd_f83o4e\\assets\n"
     ]
    },
    {
     "name": "stderr",
     "output_type": "stream",
     "text": [
      "INFO:tensorflow:Assets written to: C:\\Users\\myasu\\AppData\\Local\\Temp\\tmpd_f83o4e\\assets\n"
     ]
    }
   ],
   "source": [
    "model_save_path = f'models/{now}/ja_fingerspelling.hdf5'\n",
    "tflite_model_save_path = f'models/{now}/ja_fingerspelling.tflite'\n",
    "\n",
    "# 学習済モデルの保存\n",
    "prediction_model.save(model_save_path, include_optimizer=False)\n",
    "\n",
    "# TfLiteモデルの保存\n",
    "converter = tf.lite.TFLiteConverter.from_keras_model(prediction_model)\n",
    "converter.optimizations = [tf.lite.Optimize.DEFAULT]\n",
    "converter.target_spec.supported_ops = [tf.lite.OpsSet.TFLITE_BUILTINS, tf.lite.OpsSet.SELECT_TF_OPS]\n",
    "tflite_quantized_model = converter.convert()\n",
    "open(tflite_model_save_path, 'wb').write(tflite_quantized_model)"
   ]
  },
  {
   "cell_type": "code",
   "execution_count": null,
   "metadata": {},
   "outputs": [],
   "source": [
    "# A utility function to decode the output of the network.\n",
    "def decode_batch_predictions(pred):\n",
    "  input_len = np.ones(pred.shape[0]) * pred.shape[1]\n",
    "  # Use greedy search. For complex tasks, you can use beam search.\n",
    "  results = keras.backend.ctc_decode(pred, input_length=input_len, greedy=True)[0][0][\n",
    "    :, :max_label_len\n",
    "  ]\n",
    "  # Iterate over the results and get back the text.\n",
    "  output_text = []\n",
    "  for res in results:\n",
    "    res = tf.gather(res, tf.where(tf.math.not_equal(res, -1)))\n",
    "    res = tf.strings.reduce_join(num_to_char(res)).numpy().decode(\"utf-8\")\n",
    "    output_text.append(res)\n",
    "  return output_text"
   ]
  },
  {
   "cell_type": "code",
   "execution_count": null,
   "metadata": {},
   "outputs": [],
   "source": [
    "prediction_result_save_path = f'models/{now}/prediction_result.csv'\n",
    "accuracy_save_path = f'models/{now}/accuracy.txt'\n",
    "\n",
    "prediction_result = pd.DataFrame(columns=['AC_label', 'Prediction_result'])\n",
    "acc_count = 0\n",
    "\n",
    "for batch in test_ds.take(1):\n",
    "  for i in range(len(test_samples)):\n",
    "    batch_data = batch[\"input\"][i]\n",
    "    preds = prediction_model.predict(np.array([batch_data]))\n",
    "    pred_texts = decode_batch_predictions(preds)\n",
    "\n",
    "    prediction_result = pd.concat([prediction_result, pd.DataFrame({'AC_label':[test_samples['label'].values[i]], 'Prediction_result':[pred_texts[0]]})])\n",
    "    if test_samples['label'].values[i] is pred_texts[0]:\n",
    "      acc_count += 1\n",
    "\n",
    "# 正解ラベルとモデルの出力を一緒に保存\n",
    "prediction_result.to_csv(prediction_result_save_path, index=False)\n",
    "\n",
    "# 正解率を計算、保存\n",
    "accuracy = acc_count / len(test_samples)\n",
    "open(accuracy_save_path, 'w', encoding='utf-8').write(f'Accuracy: {accuracy}')\n",
    "print(f'Accuracy: {accuracy}')"
   ]
  },
  {
   "cell_type": "code",
   "execution_count": null,
   "metadata": {},
   "outputs": [],
   "source": [
    "df = pd.read_csv('../datasets/end-to-end/ja/00000001/attribute.csv')\n",
    "padding_length = max_frame_len - len(df.index)\n",
    "tmp = pd.DataFrame(index=range(padding_length), columns=df.columns)\n",
    "tmp.fillna(0, inplace=True)\n",
    "df = df.append(tmp, ignore_index=True)\n",
    "preds = prediction_model.predict(np.array([df.values]))\n",
    "pred_texts = decode_batch_predictions(preds)\n",
    "print(f'AC: ')\n",
    "print(f\"Prediction: {pred_texts[0]}\")"
   ]
  }
 ],
 "metadata": {
  "kernelspec": {
   "display_name": "Python 3.8.0 ('.venv': pipenv)",
   "language": "python",
   "name": "python3"
  },
  "language_info": {
   "codemirror_mode": {
    "name": "ipython",
    "version": 3
   },
   "file_extension": ".py",
   "mimetype": "text/x-python",
   "name": "python",
   "nbconvert_exporter": "python",
   "pygments_lexer": "ipython3",
   "version": "3.8.0"
  },
  "orig_nbformat": 4,
  "vscode": {
   "interpreter": {
    "hash": "dd04c7647bb9bbafe73b5d5104b0ec04cfea4395aa7b3d6f6608f8483ddbe7bd"
   }
  }
 },
 "nbformat": 4,
 "nbformat_minor": 2
}
