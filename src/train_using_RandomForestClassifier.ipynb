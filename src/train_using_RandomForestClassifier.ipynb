{
 "cells": [
  {
   "cell_type": "code",
   "execution_count": null,
   "metadata": {},
   "outputs": [],
   "source": [
    "import pandas as pd\n",
    "from sklearn.ensemble import RandomForestClassifier\n",
    "from sklearn import metrics\n",
    "from sklearn.model_selection import GridSearchCV"
   ]
  },
  {
   "cell_type": "code",
   "execution_count": null,
   "metadata": {},
   "outputs": [],
   "source": [
    "import platform\n",
    "\n",
    "# setting the font use.\n",
    "SYSTEM = platform.system()\n",
    "if SYSTEM == 'Linux':\n",
    "  _FONT = 'IPAexGothic'\n",
    "elif SYSTEM == 'Windows':\n",
    "  _FONT = 'MS Gothic'"
   ]
  },
  {
   "cell_type": "code",
   "execution_count": null,
   "metadata": {},
   "outputs": [],
   "source": [
    "# データの読み込み\n",
    "#cancer = pd.read_csv(\"../datasets/randomforest/handsign_dataset.csv\", header=None)\n",
    "#mr_train = pd.read_csv(\"../datasets/randomforest/mediapipe_train.csv\", header=None)\n",
    "#mr_test = pd.read_csv(\"../datasets/randomforest/mediapipe_test.csv\", header=None)\n",
    "mr_train = pd.read_csv(\"../datasets/randomforest/handsign_train.csv\", header=None)\n",
    "mr_test = pd.read_csv(\"../datasets/randomforest/handsign_test.csv\", header=None)"
   ]
  },
  {
   "cell_type": "code",
   "execution_count": null,
   "metadata": {},
   "outputs": [],
   "source": [
    "feature_name = [\"angle0\",\"angle1\",\"angle2\",\"angle3\",\"angle4\",\"angle5\",\"angle6\",\"angle7\",\"angle8\",\"angle9\",\"angle10\",\"angle11\",\"angle12\",\"angle13\",\"angle14\",\n",
    "                \"direction_angle\",\"is_plam_facing\",\n",
    "                \"distance_to_thumb_and_index_finger\",\n",
    "                \"distance_to_thumb_and_middle_finger\",\n",
    "                \"distance_to_index_and_middle_finger\", \n",
    "                \"is_intersect_to_index_and_middle\"]"
   ]
  },
  {
   "cell_type": "code",
   "execution_count": null,
   "metadata": {},
   "outputs": [],
   "source": [
    "# データ中の記号を数値に変換する\n",
    "label_train = []  #正解ラベルを格納\n",
    "data_train = []   #特徴データを格納\n",
    "for row_index, row in mr_train.iterrows():    #一行ずつ読み込み\n",
    "    label_train.append(row.loc[0])    #正解ラベル\n",
    "    row_data = []\n",
    "    for v in row.loc[7:]:   #一要素ずつ取り出し\n",
    "        #row_data.append(ord(v))    #文字 -> urf-8\n",
    "        row_data.append(v)  #数字\n",
    "    data_train.append(row_data)   #特徴データ\n",
    "\n",
    "# データ中の記号を数値に変換する\n",
    "label_test = []  #正解ラベルを格納\n",
    "data_test = []   #特徴データを格納\n",
    "for row_index, row in mr_test.iterrows():    #一行ずつ読み込み\n",
    "    label_test.append(row.loc[0])    #正解ラベル\n",
    "    row_data = []\n",
    "    for v in row.loc[7:]:   #一要素ずつ取り出し\n",
    "        #row_data.append(ord(v))    #文字 -> urf-8\n",
    "        row_data.append(v)  #数字\n",
    "    data_test.append(row_data)   #特徴データ"
   ]
  },
  {
   "cell_type": "code",
   "execution_count": null,
   "metadata": {},
   "outputs": [],
   "source": [
    "search_params = {\n",
    "      'n_estimators'      : [5, 10, 20, 30, 50, 100, 200],\n",
    "      # 'max_features'      : [3, 5, 10, 15, 20],\n",
    "      'random_state'      : [4],\n",
    "      'max_depth'         : [3, 5, 10]\n",
    "}\n",
    "\n",
    "# グリッドサーチによるモデル生成\n",
    "gs = GridSearchCV(RandomForestClassifier(),      # 対象の機械学習モデル\n",
    "                  search_params,   # 探索パラメタ辞書\n",
    "                  cv=3,            # クロスバリデーションの分割数\n",
    "                  verbose=True,    # ログ表示\n",
    "                  n_jobs=-1)       # 並列処理\n",
    "gs.fit(data_train, label_train)\n",
    "\n",
    "clf = gs.best_estimator_\n",
    "print(clf)"
   ]
  },
  {
   "cell_type": "code",
   "execution_count": null,
   "metadata": {},
   "outputs": [],
   "source": [
    "predict = clf.predict(data_test)\n",
    "\n",
    "# 精度を確認\n",
    "ac_score = metrics.accuracy_score(label_test, predict)\n",
    "cl_report = metrics.classification_report(label_test, predict)\n",
    "\n",
    "print(\"正解率=\", ac_score)\n",
    "print(\"レポート=\\n\", cl_report)"
   ]
  },
  {
   "cell_type": "code",
   "execution_count": null,
   "metadata": {},
   "outputs": [],
   "source": [
    "# feature_importanceを求める\n",
    "import numpy as np\n",
    "import matplotlib.pyplot as plt\n",
    "\n",
    "feature_importances = clf.feature_importances_\n",
    "\n",
    "plt.style.use('seaborn-whitegrid')\n",
    "plt.xlim([0, 0.1])\n",
    "scores  = feature_importances\n",
    "subjects  = np.arange(len(scores))\n",
    "plt.barh(subjects , scores, align=\"center\")\n",
    "plt.yticks(subjects , feature_name)\n",
    "plt.xlabel(\"使用率\", fontname =_FONT)\n",
    "plt.ylabel(\"特徴量\", fontname =_FONT)\n",
    "#plt.savefig('../log/randomforest_feature_importances.png', dpi=300)\n",
    "plt.show()"
   ]
  },
  {
   "cell_type": "code",
   "execution_count": null,
   "metadata": {},
   "outputs": [],
   "source": [
    "# 学習の結果，生成された分析木を.pngで出力\n",
    "import pydotplus\n",
    "from sklearn import tree\n",
    "label_name = [  \"あ\",\"い\",\"う\",\"え\",\"お\",\n",
    "                \"か\",\"き\",\"く\",\"け\",\"こ\",\n",
    "                \"さ\",\"し\",\"す\",\"せ\",\"そ\",\n",
    "                \"た\",\"ち\",\"つ\",\"て\",\"と\",\n",
    "                \"な\",\"に\",\"ぬ\",\"ね\",\n",
    "                \"は\",\"ひ\",\"ふ\",\"へ\",\"ほ\",\n",
    "                \"ま\",\"み\",\"む\",\"め\",\"も\",\n",
    "                \"や\",\"ゆ\",\"よ\",\n",
    "                \"ら\",\"る\",\"れ\",\"ろ\",\n",
    "                \"わ\"]\n",
    "file_name = \"../output/randomforest/visualization/png/tree_visualization.png\"\n",
    "dot_name = \"../output/randomforest/visualization/dot/tree.dot\"\n",
    "dot_data = tree.export_graphviz(\n",
    "    clf.estimators_[0],\n",
    "    out_file=None,\n",
    "    feature_names=feature_name,\n",
    "    class_names=label_name,\n",
    "    filled=True,\n",
    "    proportion=True)\n",
    "graph = pydotplus.graph_from_dot_data(dot_data)\n",
    "graph.write_png(file_name)"
   ]
  },
  {
   "cell_type": "code",
   "execution_count": null,
   "metadata": {},
   "outputs": [],
   "source": [
    "\"\"\"\n",
    "# 保存したモデルからJava用のコードを生成\n",
    "from sklearn_porter import Porter\n",
    "# Export:\n",
    "porter = Porter(clf, language='java')\n",
    "output = porter.export(embed_data=True)\n",
    "#output = porter.export(export_data=True)\n",
    "\n",
    "f = open('../output/randomforest/RandomForestClassifier.java','w')\n",
    "f.write(output)\n",
    "f.close()\n",
    "\"\"\""
   ]
  },
  {
   "cell_type": "code",
   "execution_count": null,
   "metadata": {},
   "outputs": [],
   "source": [
    "# 学習曲線\n",
    "import numpy as np\n",
    "import matplotlib.pyplot as plt\n",
    "from sklearn.model_selection import learning_curve\n",
    "\n",
    "train_sizes, train_scores, valid_scores = learning_curve(estimator=clf,\n",
    "                                              X=data_train, y=label_train,\n",
    "                                              train_sizes=np.linspace(0.1, 1.0, 10),\n",
    "                                              cv=10, n_jobs=1)\n",
    "\n",
    "# calculate the coorinates for plots\n",
    "train_mean = np.mean(train_scores, axis=1)\n",
    "train_std  = np.std(train_scores, axis=1)\n",
    "valid_mean = np.mean(valid_scores, axis=1)\n",
    "valid_std  = np.std(valid_scores, axis=1)\n",
    "\n",
    "plt.style.use('seaborn-whitegrid')\n",
    "\n",
    "# draw the training scores\n",
    "plt.plot(train_sizes, train_mean, color='orange', marker='o', markersize=5, label='training accuracy')\n",
    "plt.fill_between(train_sizes, train_mean + train_std, train_mean - train_std, alpha=0.1, color='orange')\n",
    "\n",
    "# draw the validation scores\n",
    "plt.plot(train_sizes, valid_mean, color='darkblue', marker='o', markersize=5,label='validation accuracy')\n",
    "plt.fill_between(train_sizes, valid_mean + valid_std,valid_mean - valid_std, alpha=0.1, color='darkblue')\n",
    "\n",
    "plt.xlabel('training samples')\n",
    "plt.ylabel('accuracy')\n",
    "plt.legend(loc='lower right')\n",
    "plt.ylim([0.0, 1.01])\n",
    "plt.savefig('learning_curve.png', dpi=300)\n",
    "plt.show()"
   ]
  }
 ],
 "metadata": {
  "kernelspec": {
   "display_name": "Python 3.8.0 ('.venv': pipenv)",
   "language": "python",
   "name": "python3"
  },
  "language_info": {
   "codemirror_mode": {
    "name": "ipython",
    "version": 3
   },
   "file_extension": ".py",
   "mimetype": "text/x-python",
   "name": "python",
   "nbconvert_exporter": "python",
   "pygments_lexer": "ipython3",
   "version": "3.8.0"
  },
  "orig_nbformat": 4,
  "vscode": {
   "interpreter": {
    "hash": "108f4f31dee4c00dc20e343fa3e515605f622ee16aa9f57a7947b29e35778ea3"
   }
  }
 },
 "nbformat": 4,
 "nbformat_minor": 2
}
